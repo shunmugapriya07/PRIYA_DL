{
  "nbformat": 4,
  "nbformat_minor": 0,
  "metadata": {
    "colab": {
      "name": "Untitled2.ipynb",
      "version": "0.3.2",
      "provenance": [],
      "include_colab_link": true
    },
    "kernelspec": {
      "name": "python3",
      "display_name": "Python 3"
    }
  },
  "cells": [
    {
      "cell_type": "markdown",
      "metadata": {
        "id": "view-in-github",
        "colab_type": "text"
      },
      "source": [
        "<a href=\"https://colab.research.google.com/github/shunmugapriya07/PRIYA_DL/blob/master/Untitled2.ipynb\" target=\"_parent\"><img src=\"https://colab.research.google.com/assets/colab-badge.svg\" alt=\"Open In Colab\"/></a>"
      ]
    },
    {
      "cell_type": "code",
      "metadata": {
        "id": "k_EnTw-tAkHj",
        "colab_type": "code",
        "colab": {}
      },
      "source": [
        "import numpy as np\n",
        "import matplotlib.pyplot as plt\n",
        "import keras\n",
        "from keras.models import Sequential\n",
        "from keras.layers import Dense\n",
        "from keras.layers import Conv2D, MaxPooling2D, Dropout, Flatten"
      ],
      "execution_count": 0,
      "outputs": []
    },
    {
      "cell_type": "code",
      "metadata": {
        "id": "GwTKraooBU_5",
        "colab_type": "code",
        "outputId": "7f0626d2-cc68-49ec-baa2-1930150fa38f",
        "colab": {
          "base_uri": "https://localhost:8080/",
          "height": 51
        }
      },
      "source": [
        "from keras.datasets import cifar10\n",
        "(train_images,train_labels),(test_images,test_labels)=cifar10.load_data()\n",
        "from keras.utils import to_categorical"
      ],
      "execution_count": 0,
      "outputs": [
        {
          "output_type": "stream",
          "text": [
            "Downloading data from https://www.cs.toronto.edu/~kriz/cifar-10-python.tar.gz\n",
            "170500096/170498071 [==============================] - 4s 0us/step\n"
          ],
          "name": "stdout"
        }
      ]
    },
    {
      "cell_type": "code",
      "metadata": {
        "id": "uX4dx6ZUB8y_",
        "colab_type": "code",
        "outputId": "e247cf05-5af8-4dee-a9a6-42bd4cb45897",
        "colab": {
          "base_uri": "https://localhost:8080/",
          "height": 51
        }
      },
      "source": [
        "print('Shape of Training :', train_images.shape, train_labels.shape)\n",
        "print('Shape of Testing data:', test_images.shape,test_labels.shape)"
      ],
      "execution_count": 0,
      "outputs": [
        {
          "output_type": "stream",
          "text": [
            "Shape of Training : (50000, 32, 32, 3) (50000, 1)\n",
            "Shape of Testing data: (10000, 32, 32, 3) (10000, 1)\n"
          ],
          "name": "stdout"
        }
      ]
    },
    {
      "cell_type": "code",
      "metadata": {
        "id": "J1VXdWukC1wD",
        "colab_type": "code",
        "outputId": "1b3d0d7e-e9bb-4cf4-e16b-3bca5f694e6d",
        "colab": {
          "base_uri": "https://localhost:8080/",
          "height": 51
        }
      },
      "source": [
        "classes=np.unique(train_labels)\n",
        "no_of_classes=len(classes)\n",
        "print('Total no.of classes:',no_of_classes)\n",
        "print('Output classes:', classes)"
      ],
      "execution_count": 0,
      "outputs": [
        {
          "output_type": "stream",
          "text": [
            "Total no.of classes: 10\n",
            "Output classes: [0 1 2 3 4 5 6 7 8 9]\n"
          ],
          "name": "stdout"
        }
      ]
    },
    {
      "cell_type": "code",
      "metadata": {
        "id": "FrQbY6JwDakS",
        "colab_type": "code",
        "colab": {}
      },
      "source": [
        "rows,cols,dims=train_images.shape[1:]\n",
        "train_data=train_images.reshape(train_images.shape[0],rows,cols,dims)\n",
        "test_data=test_images.reshape(test_images.shape[0],rows,cols,dims)\n",
        "input_shape=(rows,cols,dims)\n",
        "\n",
        "train_data=train_data.astype('float32')\n",
        "test_data=test_data.astype('float32')\n",
        "\n",
        "train_data/=255\n",
        "test_data/=255"
      ],
      "execution_count": 0,
      "outputs": []
    }
  ]
}